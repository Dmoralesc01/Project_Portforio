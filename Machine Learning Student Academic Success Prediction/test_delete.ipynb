{
 "cells": [
  {
   "cell_type": "code",
   "execution_count": 16,
   "metadata": {},
   "outputs": [
    {
     "name": "stderr",
     "output_type": "stream",
     "text": [
      "c:\\Users\\David\\AppData\\Local\\Programs\\Python\\Python312\\Lib\\site-packages\\sklearn\\base.py:348: InconsistentVersionWarning: Trying to unpickle estimator DictVectorizer from version 1.3.1 when using version 1.3.2. This might lead to breaking code or invalid results. Use at your own risk. For more info please refer to:\n",
      "https://scikit-learn.org/stable/model_persistence.html#security-maintainability-limitations\n",
      "  warnings.warn(\n",
      "c:\\Users\\David\\AppData\\Local\\Programs\\Python\\Python312\\Lib\\site-packages\\sklearn\\base.py:348: InconsistentVersionWarning: Trying to unpickle estimator DecisionTreeClassifier from version 1.3.1 when using version 1.3.2. This might lead to breaking code or invalid results. Use at your own risk. For more info please refer to:\n",
      "https://scikit-learn.org/stable/model_persistence.html#security-maintainability-limitations\n",
      "  warnings.warn(\n",
      "c:\\Users\\David\\AppData\\Local\\Programs\\Python\\Python312\\Lib\\site-packages\\sklearn\\base.py:348: InconsistentVersionWarning: Trying to unpickle estimator RandomForestClassifier from version 1.3.1 when using version 1.3.2. This might lead to breaking code or invalid results. Use at your own risk. For more info please refer to:\n",
      "https://scikit-learn.org/stable/model_persistence.html#security-maintainability-limitations\n",
      "  warnings.warn(\n"
     ]
    }
   ],
   "source": [
    "import pickle\n",
    "import requests\n",
    "from flask import Flask\n",
    "from flask import request\n",
    "from flask import jsonify\n",
    "\n",
    "model_file = 'FinalModel.bin'\n",
    "\n",
    "with open(model_file, 'rb') as f_in:\n",
    "    dv, model = pickle.load(f_in)"
   ]
  },
  {
   "cell_type": "code",
   "execution_count": 17,
   "metadata": {},
   "outputs": [],
   "source": [
    "student = {\"marital_status\": 1.0,\n",
    " \"application_mode\": 17.0,\n",
    " \"application_order\": 2.0,\n",
    " \"course\": 8014.0,\n",
    " \"daytime/evening_attendance\": 0.0,\n",
    " \"previous_qualification\": 1.0,\n",
    " \"previous_qualification_(grade)\": 133.0,\n",
    " \"nacionality\": 1.0,\n",
    " \"mother's_qualification\": 19.0,\n",
    " \"father's_qualification\": 1.0,\n",
    " \"mother's_occupation\": 5.0,\n",
    " \"father's_occupation\": 5.0,\n",
    " \"admission_grade\": 119.7,\n",
    " \"displaced\": 1.0,\n",
    " \"educational_special_needs\": 0.0,\n",
    " \"debtor\": 0.0,\n",
    " \"tuition_fees_up_to_date\": 1.0,\n",
    " \"gender\": 0.0,\n",
    " \"scholarship_holder\": 1.0,\n",
    " \"age_at_enrollment\": 19.0,\n",
    " \"international\": 0.0,\n",
    " \"curricular_units_1st_sem_(credited)\": 0.0,\n",
    " \"curricular_units_1st_sem_(enrolled)\": 6.0,\n",
    " \"curricular_units_1st_sem_(evaluations)\": 10.0,\n",
    " \"curricular_units_1st_sem_(approved)\": 4.0,\n",
    " \"curricular_units_1st_sem_(grade)\": 11.5,\n",
    " \"curricular_units_1st_sem_(without_evaluations)\": 0.0,\n",
    " \"curricular_units_2nd_sem_(credited)\": 0.0,\n",
    " \"curricular_units_2nd_sem_(enrolled)\": 6.0,\n",
    " \"curricular_units_2nd_sem_(evaluations)\": 11.0,\n",
    " \"curricular_units_2nd_sem_(approved)\": 6.0,\n",
    " \"curricular_units_2nd_sem_(grade)\": 11.5,\n",
    " \"curricular_units_2nd_sem_(without_evaluations)\": 0.0,\n",
    " \"unemployment_rate\": 9.4,\n",
    " \"inflation_rate\": -0.8,\n",
    " \"gdp\": -3.12}\n",
    "\n",
    "url = 'http://localhost:9696/predict'"
   ]
  },
  {
   "cell_type": "code",
   "execution_count": 20,
   "metadata": {},
   "outputs": [],
   "source": [
    "response = requests.post(url, json=student).json() ## post the student information in json format"
   ]
  },
  {
   "cell_type": "code",
   "execution_count": 21,
   "metadata": {},
   "outputs": [
    {
     "name": "stdout",
     "output_type": "stream",
     "text": [
      "{'Result': 'graduate'}\n"
     ]
    }
   ],
   "source": [
    "print(response)"
   ]
  },
  {
   "cell_type": "code",
   "execution_count": null,
   "metadata": {},
   "outputs": [],
   "source": []
  }
 ],
 "metadata": {
  "kernelspec": {
   "display_name": "Python 3",
   "language": "python",
   "name": "python3"
  },
  "language_info": {
   "codemirror_mode": {
    "name": "ipython",
    "version": 3
   },
   "file_extension": ".py",
   "mimetype": "text/x-python",
   "name": "python",
   "nbconvert_exporter": "python",
   "pygments_lexer": "ipython3",
   "version": "3.12.0"
  }
 },
 "nbformat": 4,
 "nbformat_minor": 2
}
